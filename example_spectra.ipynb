{
 "cells": [
  {
   "cell_type": "markdown",
   "metadata": {},
   "source": [
    "# SpectraHow Prediction SDK"
   ]
  },
  {
   "cell_type": "markdown",
   "metadata": {},
   "source": [
    "The DHL_SDK is a software development kit (SDK) designed to simplify and streamline the integration of DataHowLab's Prediction capabilities into a simple Python package. This SDK provides developers with a convenient and efficient way to interact with DataHowLab's API, enabling access to the Projects and Models created, as well as making predictions using these models with new sets of data."
   ]
  },
  {
   "cell_type": "markdown",
   "metadata": {},
   "source": [
    "### Prerequisites:\n",
    "\n",
    "- **Python:** Ensure you have Python installed (version 3.9 or higher) on your system.\n",
    "- **API Key** Make sure you have a valid DataHowLab API Key. You can store it as an Enviroment variable or use it directly. \n",
    "\n",
    "### Installation:\n",
    "\n",
    "- Run the following command to install DHL_SDK from its GitHub repository using pip:\n",
    "\n",
    "   ```shell\n",
    "   pip install git+https://github.com/DataHow/DHL_SDK.git"
   ]
  },
  {
   "cell_type": "markdown",
   "metadata": {},
   "source": [
    "## Using the SDK"
   ]
  },
  {
   "cell_type": "markdown",
   "metadata": {},
   "source": [
    "1. Import the necessary modules, including `SpectraHowClient` and `APIKeyAuthentication`\n",
    "2. You initialize an instance of the `APIKeyAuthentication` class, which is used to authenticate your access to DHL's SpectraHow service using an API key.\n",
    "3. Then, you create a client instance, `client`, for the SpectraHow service and provide the previously initialized `key` for authentication. This client will be used to interact with the SpectraHow service to perform various actions, such as making predictions."
   ]
  },
  {
   "cell_type": "code",
   "execution_count": 1,
   "metadata": {},
   "outputs": [],
   "source": [
    "%load_ext dotenv\n",
    "%dotenv\n",
    "from dhl_sdk import SpectraHowClient, APIKeyAuthentication\n",
    "\n",
    "# DHL_API_KEY env var is loaded from the .env file\n",
    "key = APIKeyAuthentication()\n",
    "client = SpectraHowClient(auth_key=key, base_url=\"https://dev.datahowlab.ch/\")"
   ]
  },
  {
   "cell_type": "markdown",
   "metadata": {},
   "source": [
    "4. `client.get_projects()` is called to retrieve a list of projects. You can filter the projects by name if you include `name=name_of_the_project`. \n",
    "5. This will result in a Iterable object. To access each project, you can use the `next(projects)` function."
   ]
  },
  {
   "cell_type": "code",
   "execution_count": 2,
   "metadata": {},
   "outputs": [
    {
     "name": "stdout",
     "output_type": "stream",
     "text": [
      "id='3f971a29-5647-4a8d-8c91-05929069846f' name='testing timeseries 2' description='asdasd' process_unit_id='373c173a-1f23-4e56-874e-90ca4702ec0d'\n"
     ]
    }
   ],
   "source": [
    "projects = client.get_projects(name=\"testing timeseries 2\")\n",
    "project = next(projects)\n",
    "print(project)"
   ]
  },
  {
   "cell_type": "markdown",
   "metadata": {},
   "source": [
    "6. Once you find your project of interest, you can access all the models inside that project using the `get_models()` method. \n",
    "7. If you want to print all the models inside a project, just convert the object `models` into a list."
   ]
  },
  {
   "cell_type": "code",
   "execution_count": 3,
   "metadata": {},
   "outputs": [
    {
     "data": {
      "text/plain": [
       "[Variable(id='d85df1ef-1055-4d44-815c-def30e3213ba', name='Kaiser Raman', code='spc', variant='spectrum', group_code=<GroupCode.SPC: 'SPC'>, size=3326),\n",
       " Variable(id='14e584b2-7bd0-4dcf-ac62-0ab06ee7d4ae', name='spectra glucose', code='glucose', variant='numeric', group_code=<GroupCode.TGT: 'TGT'>, size=None),\n",
       " Variable(id='f6c63537-50b2-41b8-aa2d-1c2f205c5882', name='SpectraVCD', code='spcvcd', variant='numeric', group_code=<GroupCode.TGT: 'TGT'>, size=None)]"
      ]
     },
     "execution_count": 3,
     "metadata": {},
     "output_type": "execute_result"
    }
   ],
   "source": [
    "models = project.get_models()\n",
    "model = next(models)\n",
    "\n",
    "model.dataset.variables"
   ]
  },
  {
   "cell_type": "markdown",
   "metadata": {},
   "source": [
    "8. Now all we need is some spectra data! \n",
    "\n",
    "The data needs to be in a 2D array format, either in list or numpy array. "
   ]
  },
  {
   "cell_type": "code",
   "execution_count": 4,
   "metadata": {},
   "outputs": [
    {
     "data": {
      "text/plain": [
       "array([[ 357944.,  364530.,  372103., ..., 2773852., 2767583., 2772518.],\n",
       "       [ 363880.,  370384.,  376598., ..., 2752146., 2752439., 2758778.],\n",
       "       [ 363586.,  368693.,  375430., ..., 2756330., 2752835., 2751421.],\n",
       "       ...,\n",
       "       [ 358698.,  365937.,  375747., ..., 2725370., 2728287., 2730954.],\n",
       "       [ 364131.,  369949.,  377621., ..., 2732093., 2732457., 2737504.],\n",
       "       [ 362428.,  369028.,  376778., ..., 2738000., 2736702., 2736453.]])"
      ]
     },
     "execution_count": 4,
     "metadata": {},
     "output_type": "execute_result"
    }
   ],
   "source": [
    "import numpy as np\n",
    "spectra = np.genfromtxt(\"demo-spectra.csv\", delimiter=',')\n",
    "spectra = spectra[:, ~np.isnan(spectra).any(axis=0)]\n",
    "spectra"
   ]
  },
  {
   "cell_type": "markdown",
   "metadata": {},
   "source": [
    "9. With the data in the correct format, you can use it to make predictions using the selected model, with `predict(spectra)`"
   ]
  },
  {
   "cell_type": "code",
   "execution_count": 5,
   "metadata": {},
   "outputs": [
    {
     "name": "stdout",
     "output_type": "stream",
     "text": [
      "{'glucose': [23.809103890183188, 23.823064271987015, 23.789086192331716, 23.904057931580688, 23.773774669098053, 23.713891294803908, 23.655697774852193, 23.72545301388137, 23.80368218619102, 23.711049369729345, 23.656777304903322, 23.85196916998003, 23.670386068999697, 23.68355427741991], 'spcvcd': [9.955170395855916, 9.957045330445851, 9.95640507969613, 9.957052186972133, 9.956977773012946, 9.958151623505202, 9.961674392730915, 9.963842041620026, 9.960145519768984, 9.962478947424062, 9.962521557827047, 9.963247695163144, 9.963513886474402, 9.966238937516493]}\n"
     ]
    }
   ],
   "source": [
    "predictions = model.predict(spectra)\n",
    "print(predictions)"
   ]
  },
  {
   "cell_type": "code",
   "execution_count": 6,
   "metadata": {},
   "outputs": [
    {
     "data": {
      "image/png": "[encoded data removed]",
      "text/plain": [
       "<Figure size 600x300 with 1 Axes>"
      ]
     },
     "metadata": {},
     "output_type": "display_data"
    }
   ],
   "source": [
    "import matplotlib.pyplot as plt \n",
    "\n",
    "plt.figure(figsize=(6,3))\n",
    "plt.title(\"Prediction\")\n",
    "plt.plot(predictions[\"spcvcd\"])\n",
    "plt.xlabel(\"Timestamp\")\n",
    "plt.ylabel(\"SPC-VCD\")\n",
    "plt.show()"
   ]
  }
 ],
 "metadata": {
  "kernelspec": {
   "display_name": "Python 3",
   "language": "python",
   "name": "python3"
  },
  "language_info": {
   "codemirror_mode": {
    "name": "ipython",
    "version": 3
   },
   "file_extension": ".py",
   "mimetype": "text/x-python",
   "name": "python",
   "nbconvert_exporter": "python",
   "pygments_lexer": "ipython3",
   "version": "3.9.5"
  }
 },
 "nbformat": 4,
 "nbformat_minor": 2
}
