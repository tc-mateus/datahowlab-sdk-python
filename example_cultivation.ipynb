{
 "cells": [
  {
   "cell_type": "code",
   "execution_count": 1,
   "metadata": {},
   "outputs": [
    {
     "data": {
      "text/plain": [
       "CultivationModel(id='440aae13-6637-4b5c-aa21-8eea002cb22b', name='Model #14', status='success', project_id='d0bdc41c-a6df-4144-979d-b4baa4f97772', config={'groups': {'Volume': ['ecebe027-dc04-39dc-715d-c1909e2c6e38'], 'VCD': ['7d134b31-6f3a-610d-f63b-fa732d687db3'], 'X': ['58184a53-62db-4548-8bfe-142433eedef2', '6560597c-8021-4eea-b9fb-1b47928b7de9', '86d515c5-483e-4703-a3a5-663169cdc684', 'fe7a3216-d07c-465e-8e17-1b36c47ca9be', '87dad2ee-3793-49b3-9bb6-2dd323e69b41'], 'Z': ['c7db21e9-e51a-42c2-ae14-08787d56caf0'], 'W': ['2804d231-68e7-4763-8087-6a518865bb8a', 'db4b2d0c-8952-446d-859f-f00c4462898c'], 'Flows': ['477167a4-c853-48ca-9026-d9d182cb7784', '2f37c3e8-bb3a-418e-9fbd-4816fd7e39b1', 'b23b05cf-f23d-4832-b0d5-927fb6ac86b3']}, 'trainSet': [True, True, False, True, True, True, True, False, False, True, True, False, True, True, True, False, True, True, True, True, True, True, True, True, True], 'parameters': {'model_hyperparameters': {'max_rows': 800, 'consistent_mass_balance': True, 'n_estimators': 25, 'max_samples': 0.5, 'constant_volume': False}, 'model_evaluation_settings': {'cv_setting': {'cv_folds': 5, 'cv_type': 'K-Fold Cross Validation'}}}, 'features': [None, None, None, None, None, None, None, None, None, None, None, None, None, None, None, None, None, None]}, dataset=Dataset(id='bd59112f-10a9-4425-a000-cdd415833c79', variables=[Variable(id='477167a4-c853-48ca-9026-d9d182cb7784', name='Sampling volume', code='SampleVol', variant='flow', group_code=<GroupCode.FLOWS: 'Flows'>, size=None), Variable(id='2f37c3e8-bb3a-418e-9fbd-4816fd7e39b1', name='Bolus feed volume', code='BolusFeed', variant='flow', group_code=<GroupCode.FLOWS: 'Flows'>, size=None), Variable(id='b23b05cf-f23d-4832-b0d5-927fb6ac86b3', name='Conti feed rate', code='ContiFeed', variant='flow', group_code=<GroupCode.FLOWS: 'Flows'>, size=None), Variable(id='766ee61b-db6b-49ff-9a1c-206f076d69bf', name='Bolus feed mass of glucose', code='BolusFeed_Glc', variant='numeric', group_code=<GroupCode.FEED_CONC: 'FeedConc'>, size=None), Variable(id='e0fa7828-6e99-404f-84bb-440aad4532d0', name='Bolus feed mass of glutamine', code='BolusFeed_Gln', variant='numeric', group_code=<GroupCode.FEED_CONC: 'FeedConc'>, size=None), Variable(id='e7c763d6-440e-42aa-9951-10c9d149ad38', name='Conti feed concentration of glucose', code='ContiFeed_Glc', variant='numeric', group_code=<GroupCode.FEED_CONC: 'FeedConc'>, size=None), Variable(id='a947b1ce-7d50-4ab7-9e08-8f5b9b82612c', name='Conti feed concentration of glutamine', code='ContiFeed_Gln', variant='numeric', group_code=<GroupCode.FEED_CONC: 'FeedConc'>, size=None), Variable(id='ecebe027-dc04-39dc-715d-c1909e2c6e38', name='Bioreactor volume', code='Volume', variant='numeric', group_code=<GroupCode.Z: 'Z'>, size=None), Variable(id='c7db21e9-e51a-42c2-ae14-08787d56caf0', name='Stirring speed', code='StirSpeed', variant='numeric', group_code=<GroupCode.Z: 'Z'>, size=None), Variable(id='7d134b31-6f3a-610d-f63b-fa732d687db3', name='Viable cell density', code='VCD', variant='numeric', group_code=<GroupCode.X: 'X'>, size=None), Variable(id='58184a53-62db-4548-8bfe-142433eedef2', name='Glucose conc.', code='Glc', variant='numeric', group_code=<GroupCode.X: 'X'>, size=None), Variable(id='6560597c-8021-4eea-b9fb-1b47928b7de9', name='Glutamine conc.', code='Gln', variant='numeric', group_code=<GroupCode.X: 'X'>, size=None), Variable(id='86d515c5-483e-4703-a3a5-663169cdc684', name='Ammonia conc.', code='Amm', variant='numeric', group_code=<GroupCode.X: 'X'>, size=None), Variable(id='fe7a3216-d07c-465e-8e17-1b36c47ca9be', name='Lactate conc.', code='Lac', variant='numeric', group_code=<GroupCode.X: 'X'>, size=None), Variable(id='87dad2ee-3793-49b3-9bb6-2dd323e69b41', name='Product titer', code='Titer', variant='numeric', group_code=<GroupCode.X: 'X'>, size=None), Variable(id='2804d231-68e7-4763-8087-6a518865bb8a', name='pH value', code='pH', variant='numeric', group_code=<GroupCode.W: 'W'>, size=None), Variable(id='db4b2d0c-8952-446d-859f-f00c4462898c', name='Temperature', code='Temp', variant='numeric', group_code=<GroupCode.W: 'W'>, size=None), Variable(id='5bd33f09-626c-4ff5-9392-496b7e89d302', name='Aggregate conc.', code='Aggr', variant='numeric', group_code=<GroupCode.Y: 'Y'>, size=None)]))"
      ]
     },
     "execution_count": 1,
     "metadata": {},
     "output_type": "execute_result"
    }
   ],
   "source": [
    "%load_ext dotenv\n",
    "%dotenv\n",
    "import json\n",
    "from dhl_sdk import DataHowLabClient, APIKeyAuthentication\n",
    "\n",
    "# DHL_API_KEY env var is loaded from the .env file\n",
    "key = APIKeyAuthentication()\n",
    "client = DataHowLabClient(auth_key=key, base_url=\"https://dev.datahowlab.ch/\")\n",
    "\n",
    "projects = client.get_projects(project_type=\"cultivation\", name=\"testing project\")\n",
    "project = next(projects)\n",
    "\n",
    "models = project.get_models()\n",
    "next(models)\n",
    "model = next(models)\n",
    "\n",
    "model"
   ]
  },
  {
   "cell_type": "code",
   "execution_count": 2,
   "metadata": {},
   "outputs": [
    {
     "name": "stdout",
     "output_type": "stream",
     "text": [
      "477167a4-c853-48ca-9026-d9d182cb7784 SampleVol FLOWS\n",
      "2f37c3e8-bb3a-418e-9fbd-4816fd7e39b1 BolusFeed FLOWS\n",
      "b23b05cf-f23d-4832-b0d5-927fb6ac86b3 ContiFeed FLOWS\n",
      "766ee61b-db6b-49ff-9a1c-206f076d69bf BolusFeed_Glc FEED_CONC\n",
      "e0fa7828-6e99-404f-84bb-440aad4532d0 BolusFeed_Gln FEED_CONC\n",
      "e7c763d6-440e-42aa-9951-10c9d149ad38 ContiFeed_Glc FEED_CONC\n",
      "a947b1ce-7d50-4ab7-9e08-8f5b9b82612c ContiFeed_Gln FEED_CONC\n",
      "ecebe027-dc04-39dc-715d-c1909e2c6e38 Volume Z\n",
      "c7db21e9-e51a-42c2-ae14-08787d56caf0 StirSpeed Z\n",
      "7d134b31-6f3a-610d-f63b-fa732d687db3 VCD X\n",
      "58184a53-62db-4548-8bfe-142433eedef2 Glc X\n",
      "6560597c-8021-4eea-b9fb-1b47928b7de9 Gln X\n",
      "86d515c5-483e-4703-a3a5-663169cdc684 Amm X\n",
      "fe7a3216-d07c-465e-8e17-1b36c47ca9be Lac X\n",
      "87dad2ee-3793-49b3-9bb6-2dd323e69b41 Titer X\n",
      "2804d231-68e7-4763-8087-6a518865bb8a pH W\n",
      "db4b2d0c-8952-446d-859f-f00c4462898c Temp W\n",
      "5bd33f09-626c-4ff5-9392-496b7e89d302 Aggr Y\n"
     ]
    }
   ],
   "source": [
    "for var in model.dataset.variables:\n",
    "    print(var.id, var.code, var.group_code.name)"
   ]
  },
  {
   "cell_type": "code",
   "execution_count": 3,
   "metadata": {},
   "outputs": [],
   "source": [
    "import numpy as np\n",
    "\n",
    "timestamps = np.arange(0, 15*86400, 86400).tolist()\n",
    "\n",
    "inputs = {\"SampleVol\": 15 * [0.02], \n",
    "          \"BolusFeed\": [\n",
    "                0,\n",
    "                0,\n",
    "                0,\n",
    "                0.01,\n",
    "                0.01,\n",
    "                0.01,\n",
    "                0.01,\n",
    "                0.01,\n",
    "                0.01,\n",
    "                0.01,\n",
    "                0.01,\n",
    "                0.01,\n",
    "                0,\n",
    "                0,\n",
    "                0\n",
    "            ], \n",
    "          \"ContiFeed\": [\n",
    "                0,\n",
    "                0,\n",
    "                0.02252,\n",
    "                0.02252,\n",
    "                0.02252,\n",
    "                0.02252,\n",
    "                0.02252,\n",
    "                0.02252,\n",
    "                0.02252,\n",
    "                0.02252,\n",
    "                0.02252,\n",
    "                0.02252,\n",
    "                0,\n",
    "                0,\n",
    "                0\n",
    "            ], \n",
    "          \"BolusFeed_Glc\": [1126.0000000000005], \n",
    "          \"BolusFeed_Gln\": [286], \n",
    "          \"ContiFeed_Glc\": [500.0], \n",
    "          \"ContiFeed_Gln\": [126.99822380106603], \n",
    "          \"Volume\": [1], \n",
    "          \"StirSpeed\": [163], \n",
    "          \"VCD\": [0.326], \n",
    "          \"Glc\": [37.4], \n",
    "          \"Gln\": [5.14], \n",
    "          \"Amm\": [0], \n",
    "          \"Lac\": [0], \n",
    "          \"Titer\": [0], \n",
    "          \"pH\": [\n",
    "                7.08,\n",
    "                7.08,\n",
    "                7.08,\n",
    "                7.08,\n",
    "                7.08,\n",
    "                7.08,\n",
    "                7.08,\n",
    "                7.065,\n",
    "                7.065,\n",
    "                7.065,\n",
    "                7.065,\n",
    "                7.065,\n",
    "                7.065,\n",
    "                7.065,\n",
    "                7.065\n",
    "            ], \n",
    "          \"Temp\": [\n",
    "                37.32,\n",
    "                37.32,\n",
    "                37.32,\n",
    "                37.32,\n",
    "                37.32,\n",
    "                37.32,\n",
    "                37.32,\n",
    "                37.32,\n",
    "                37.32,\n",
    "                36.66,\n",
    "                36.66,\n",
    "                36.66,\n",
    "                36.66,\n",
    "                36.66,\n",
    "                36.66\n",
    "            ]}\n"
   ]
  },
  {
   "cell_type": "code",
   "execution_count": 6,
   "metadata": {},
   "outputs": [
    {
     "name": "stdout",
     "output_type": "stream",
     "text": [
      "{'VCD': [0.326, 1.3388442983036202, 2.80104332266996, 4.392600290467625, 5.53661755965022, 6.127743784777546, 6.109269886100146, 5.766786418895123, 5.140419839146344, 4.4258925376355265, 3.6836865292698624, 2.9950455139212258, 2.3868886407326873, 1.9277451556448397, 1.5428131847288997], 'Glc': [37.4, 31.175310733117318, 20.25666943663485, 18.11481568870409, 27.27001201285278, 36.19272793355373, 45.19474862807277, 56.052839807948644, 68.14416846601009, 80.50182971786357, 93.88539298394667, 106.58647366334166, 118.94161561427786, 114.9053140352604, 110.44278988996395], 'Gln': [5.14, 3.447625718080965, 1.84550396411731, 3.913492561568929, 8.65653112394816, 13.368056652099401, 17.047411201674414, 20.012533026399772, 22.246516108004467, 23.315755816950247, 24.05979353513445, 24.19387320452136, 24.543119194254256, 21.469943512144276, 18.49539072326717], 'Amm': [0.0, 1.8299319400066854, 3.3012863449059044, 4.475704702278159, 6.546596213302781, 9.204432843122996, 12.257145055238711, 15.703119606973416, 19.328792039299916, 22.93089577487607, 26.299973982598196, 29.796049419766824, 33.214907423150116, 36.47534563905845, 39.55245256464614], 'Lac': [0.0, 9.040430189582619, 23.69971782522874, 38.73239837610448, 50.39496082120396, 59.35122499896632, 67.11213924043903, 74.01308099059828, 78.9036918050129, 81.13426862113583, 79.93381161558999, 81.89337067018633, 85.77595804155355, 89.25461213262416, 92.1529589707041], 'Titer': [0.0, 18.429599343333017, 46.452623530626, 109.89734977843588, 206.11719592169777, 336.2343375628244, 472.80642770588133, 607.1611785916144, 734.7288472548055, 843.7538783873406, 923.053688247406, 964.262409304748, 996.7416975249137, 1077.4487706719854, 1140.3974498575435]}\n"
     ]
    }
   ],
   "source": [
    "predictions = model.predict(timestamps, inputs, 's')\n",
    "print(predictions)"
   ]
  }
 ],
 "metadata": {
  "kernelspec": {
   "display_name": "dhl-sdk-mgyGPzBg-py3.9",
   "language": "python",
   "name": "python3"
  },
  "language_info": {
   "codemirror_mode": {
    "name": "ipython",
    "version": 3
   },
   "file_extension": ".py",
   "mimetype": "text/x-python",
   "name": "python",
   "nbconvert_exporter": "python",
   "pygments_lexer": "ipython3",
   "version": "3.9.5"
  }
 },
 "nbformat": 4,
 "nbformat_minor": 2
}
